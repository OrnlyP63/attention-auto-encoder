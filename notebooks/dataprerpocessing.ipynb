{
 "cells": [
  {
   "cell_type": "code",
   "execution_count": 3,
   "metadata": {},
   "outputs": [
    {
     "name": "stdout",
     "output_type": "stream",
     "text": [
      "The autoreload extension is already loaded. To reload it, use:\n",
      "  %reload_ext autoreload\n"
     ]
    }
   ],
   "source": [
    "%load_ext autoreload\n",
    "%autoreload 2\n",
    "\n",
    "import pandas as pd\n",
    "from utility.data_processing import set_time_data, set_asset_return, set_asset_log_nvt, set_asset_log_mvrv"
   ]
  },
  {
   "cell_type": "code",
   "execution_count": 4,
   "metadata": {},
   "outputs": [],
   "source": [
    "for ticker in ['btc', 'eth', 'doge', 'xrp', 'ada']:\n",
    "  currency_metrics = pd.read_csv(f'../data/{ticker}_metrics_5_years.csv')\n",
    "  set_currency_metrics = set_time_data(currency_metrics)\n",
    "  set_currency_metrics = set_asset_return(set_currency_metrics)\n",
    "  set_currency_metrics = set_asset_log_mvrv(set_currency_metrics)\n",
    "  set_currency_metrics = set_asset_log_nvt(set_currency_metrics)\n",
    "\n",
    "  set_currency_metrics.to_csv(f'../data/{ticker}_metrics_5_years.csv')"
   ]
  }
 ],
 "metadata": {
  "kernelspec": {
   "display_name": "crypto",
   "language": "python",
   "name": "python3"
  },
  "language_info": {
   "codemirror_mode": {
    "name": "ipython",
    "version": 3
   },
   "file_extension": ".py",
   "mimetype": "text/x-python",
   "name": "python",
   "nbconvert_exporter": "python",
   "pygments_lexer": "ipython3",
   "version": "3.12.8"
  }
 },
 "nbformat": 4,
 "nbformat_minor": 2
}
