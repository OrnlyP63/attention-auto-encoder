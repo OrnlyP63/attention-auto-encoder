{
 "cells": [
  {
   "cell_type": "code",
   "execution_count": 6,
   "metadata": {},
   "outputs": [],
   "source": [
    "from coinmetrics.api_client import CoinMetricsClient\n",
    "import pandas as pd\n",
    "import numpy as np\n",
    "import os\n",
    "\n",
    "client = CoinMetricsClient()"
   ]
  },
  {
   "cell_type": "code",
   "execution_count": 7,
   "metadata": {},
   "outputs": [],
   "source": [
    "client = CoinMetricsClient()"
   ]
  },
  {
   "cell_type": "code",
   "execution_count": 10,
   "metadata": {},
   "outputs": [],
   "source": [
    "for ticker in ['btc', 'eth', 'doge', 'xrp', 'usdt']:\n",
    "  if not os.path.isfile(f'../data/{ticker}_metrics_5_years.csv'):\n",
    "    currency_metrics = client.get_asset_metrics(assets=ticker,\n",
    "                                               metrics= ['PriceUSD',\n",
    "                                                         'CapMVRVCur',\n",
    "                                                         'NVTAdj'],\n",
    "                                               start_time='2020-01-01',\n",
    "                                               end_time='2024-12-31',\n",
    "                                               frequency='1d')\n",
    "    \n",
    "    currency_metrics = pd.DataFrame(currency_metrics)\n",
    "    currency_metrics['time'] = pd.to_datetime(currency_metrics['time'])\n",
    "    currency_metrics = currency_metrics.set_index('time')\n",
    "    currency_metrics.to_csv(f'../data/{ticker}_metrics_5_years.csv')\n",
    "\n",
    "  else:\n",
    "      currency_metrics = pd.read_csv(f'../data/{ticker}_metrics_5_years.csv')\n",
    "      currency_metrics['time'] = pd.to_datetime(currency_metrics['time'])\n",
    "      currency_metrics = currency_metrics.set_index('time')"
   ]
  }
 ],
 "metadata": {
  "kernelspec": {
   "display_name": "crypto",
   "language": "python",
   "name": "python3"
  },
  "language_info": {
   "codemirror_mode": {
    "name": "ipython",
    "version": 3
   },
   "file_extension": ".py",
   "mimetype": "text/x-python",
   "name": "python",
   "nbconvert_exporter": "python",
   "pygments_lexer": "ipython3",
   "version": "3.12.8"
  }
 },
 "nbformat": 4,
 "nbformat_minor": 2
}
