{
 "cells": [
  {
   "cell_type": "code",
   "execution_count": 1,
   "metadata": {},
   "outputs": [],
   "source": [
    "%load_ext autoreload\n",
    "%autoreload 2\n",
    "\n",
    "import torch\n",
    "from utility.attentionAutoEncoder import AttentionAutoEncoder, concate_data, AttentionDataset\n",
    "from torch.utils.data import DataLoader"
   ]
  },
  {
   "cell_type": "code",
   "execution_count": 2,
   "metadata": {},
   "outputs": [],
   "source": [
    "model = AttentionAutoEncoder(3, 5, 2)"
   ]
  },
  {
   "cell_type": "code",
   "execution_count": 3,
   "metadata": {},
   "outputs": [
    {
     "data": {
      "text/plain": [
       "tensor([[-0.5975, -0.6707, -0.1882, -0.2758,  0.0063],\n",
       "        [-0.2311,  0.8977, -0.6596, -0.2374, -0.7762],\n",
       "        [ 0.1455,  0.4327,  0.6082,  1.6839,  0.6171]])"
      ]
     },
     "execution_count": 3,
     "metadata": {},
     "output_type": "execute_result"
    }
   ],
   "source": [
    "input_data = torch.randn(3, 5)\n",
    "input_data"
   ]
  },
  {
   "cell_type": "code",
   "execution_count": 4,
   "metadata": {},
   "outputs": [
    {
     "data": {
      "text/plain": [
       "tensor([[ 0.4820,  6.7751, -6.6022,  4.5491,  7.7067]], grad_fn=<MmBackward0>)"
      ]
     },
     "execution_count": 4,
     "metadata": {},
     "output_type": "execute_result"
    }
   ],
   "source": [
    "model(input_data)"
   ]
  },
  {
   "cell_type": "code",
   "execution_count": 5,
   "metadata": {},
   "outputs": [],
   "source": [
    "import pandas as pd\n",
    "from utility.data_processing import set_time_data"
   ]
  },
  {
   "cell_type": "code",
   "execution_count": 6,
   "metadata": {},
   "outputs": [],
   "source": [
    "dfs = dict()\n",
    "for ticker in ['btc', 'eth', 'doge', 'xrp', 'ada']:\n",
    "  currency_metrics = pd.read_csv(f'../data/{ticker}_metrics_5_years.csv')\n",
    "  set_currency_metrics = set_time_data(currency_metrics)\n",
    "  dfs[ticker] = set_currency_metrics"
   ]
  },
  {
   "cell_type": "code",
   "execution_count": 7,
   "metadata": {},
   "outputs": [],
   "source": [
    "res = concate_data(dfs)"
   ]
  },
  {
   "cell_type": "code",
   "execution_count": 8,
   "metadata": {},
   "outputs": [],
   "source": [
    "X_t = res[:, :, 0]"
   ]
  },
  {
   "cell_type": "code",
   "execution_count": 9,
   "metadata": {},
   "outputs": [
    {
     "data": {
      "text/plain": [
       "tensor([[-0.0183, -0.0017, -0.0749,  0.0514,  0.0709]], grad_fn=<MmBackward0>)"
      ]
     },
     "execution_count": 9,
     "metadata": {},
     "output_type": "execute_result"
    }
   ],
   "source": [
    "model(X_t)"
   ]
  },
  {
   "cell_type": "code",
   "execution_count": 10,
   "metadata": {},
   "outputs": [
    {
     "data": {
      "text/plain": [
       "5"
      ]
     },
     "execution_count": 10,
     "metadata": {},
     "output_type": "execute_result"
    }
   ],
   "source": [
    "X_t.shape[-1]"
   ]
  },
  {
   "cell_type": "code",
   "execution_count": 11,
   "metadata": {},
   "outputs": [],
   "source": [
    "dataset = AttentionDataset(res)"
   ]
  },
  {
   "cell_type": "code",
   "execution_count": 12,
   "metadata": {},
   "outputs": [
    {
     "name": "stdout",
     "output_type": "stream",
     "text": [
      "torch.Size([50, 3, 5])\n"
     ]
    }
   ],
   "source": [
    "# Create DataLoader\n",
    "dataloader = DataLoader(dataset, batch_size=50, shuffle=True, num_workers=0)\n",
    "\n",
    "# Iterate through DataLoader\n",
    "for batch in dataloader:\n",
    "    print(batch.shape)  # Output: torch.Size([10, 5])\n",
    "    break  # To print only one batch"
   ]
  },
  {
   "cell_type": "code",
   "execution_count": 13,
   "metadata": {},
   "outputs": [
    {
     "data": {
      "text/plain": [
       "tensor([[[ 6.3896e-02,  2.3804e-01, -3.4477e-02,  2.4234e-02,  8.3029e-02]],\n",
       "\n",
       "        [[ 9.1894e-02,  3.2146e-01, -2.2980e-02,  1.6538e-02,  8.9710e-02]],\n",
       "\n",
       "        [[ 0.0000e+00,  0.0000e+00,  0.0000e+00,  0.0000e+00,  0.0000e+00]],\n",
       "\n",
       "        [[ 1.5300e-01,  4.7494e-01,  3.8499e-02, -2.5312e-02,  6.3668e-02]],\n",
       "\n",
       "        [[ 2.6258e-02,  1.7666e-01, -1.1458e-01,  7.9091e-02,  1.4622e-01]],\n",
       "\n",
       "        [[ 0.0000e+00,  0.0000e+00,  0.0000e+00,  0.0000e+00,  0.0000e+00]],\n",
       "\n",
       "        [[ 0.0000e+00,  0.0000e+00,  0.0000e+00,  0.0000e+00,  0.0000e+00]],\n",
       "\n",
       "        [[ 1.7732e-01,  1.0532e+00, -5.9580e-01,  4.1157e-01,  7.8876e-01]],\n",
       "\n",
       "        [[ 0.0000e+00,  0.0000e+00,  0.0000e+00,  0.0000e+00,  0.0000e+00]],\n",
       "\n",
       "        [[ 0.0000e+00,  0.0000e+00,  0.0000e+00,  0.0000e+00,  0.0000e+00]],\n",
       "\n",
       "        [[ 1.5762e-01,  4.7884e-01,  5.2958e-02, -3.5230e-02,  5.0745e-02]],\n",
       "\n",
       "        [[ 0.0000e+00,  0.0000e+00,  0.0000e+00,  0.0000e+00,  0.0000e+00]],\n",
       "\n",
       "        [[ 3.7196e-01,  1.2631e+00, -4.4539e-02,  3.3565e-02,  3.0900e-01]],\n",
       "\n",
       "        [[ 4.3803e-02,  1.3307e-01,  1.4717e-02, -9.7906e-03,  1.4102e-02]],\n",
       "\n",
       "        [[-2.0944e-03, -1.9324e-04, -8.5615e-03,  5.8779e-03,  8.0982e-03]],\n",
       "\n",
       "        [[ 0.0000e+00,  0.0000e+00,  0.0000e+00,  0.0000e+00,  0.0000e+00]],\n",
       "\n",
       "        [[ 3.3992e-02,  1.8064e-01, -8.7128e-02,  6.0249e-02,  1.2096e-01]],\n",
       "\n",
       "        [[ 1.2430e-01,  4.6841e-01, -7.3870e-02,  5.1826e-02,  1.6911e-01]],\n",
       "\n",
       "        [[ 1.3658e-01,  5.6426e-01, -1.4432e-01,  1.0042e-01,  2.5632e-01]],\n",
       "\n",
       "        [[ 6.6835e-02,  2.0304e-01,  2.2456e-02, -1.4939e-02,  2.1517e-02]],\n",
       "\n",
       "        [[ 2.2999e-01,  8.5240e-01, -1.1847e-01,  8.3353e-02,  2.9257e-01]],\n",
       "\n",
       "        [[ 0.0000e+00,  0.0000e+00,  0.0000e+00,  0.0000e+00,  0.0000e+00]],\n",
       "\n",
       "        [[-5.4951e-03, -5.0701e-04, -2.2463e-02,  1.5422e-02,  2.1248e-02]],\n",
       "\n",
       "        [[ 0.0000e+00,  0.0000e+00,  0.0000e+00,  0.0000e+00,  0.0000e+00]],\n",
       "\n",
       "        [[ 2.5792e-02,  2.6243e-01, -2.2579e-01,  1.5565e-01,  2.7005e-01]],\n",
       "\n",
       "        [[ 3.4731e-01,  1.2446e+00, -1.2466e-01,  8.8534e-02,  3.8126e-01]],\n",
       "\n",
       "        [[ 1.5189e-02,  1.0307e-01, -6.7400e-02,  4.6520e-02,  8.5833e-02]],\n",
       "\n",
       "        [[ 4.4245e-02,  2.2856e-01, -1.0504e-01,  7.2663e-02,  1.4811e-01]],\n",
       "\n",
       "        [[ 0.0000e+00,  0.0000e+00,  0.0000e+00,  0.0000e+00,  0.0000e+00]],\n",
       "\n",
       "        [[ 0.0000e+00,  0.0000e+00,  0.0000e+00,  0.0000e+00,  0.0000e+00]],\n",
       "\n",
       "        [[ 0.0000e+00,  0.0000e+00,  0.0000e+00,  0.0000e+00,  0.0000e+00]],\n",
       "\n",
       "        [[ 1.1428e-01,  4.5090e-01, -9.3693e-02,  6.5396e-02,  1.8426e-01]],\n",
       "\n",
       "        [[ 1.2555e-01,  3.8143e-01,  4.2185e-02, -2.8063e-02,  4.0422e-02]],\n",
       "\n",
       "        [[ 3.9068e-03,  9.3342e-02, -1.0246e-01,  7.0569e-02,  1.1711e-01]],\n",
       "\n",
       "        [[ 0.0000e+00,  0.0000e+00,  0.0000e+00,  0.0000e+00,  0.0000e+00]],\n",
       "\n",
       "        [[-9.7767e-02, -9.0205e-03, -3.9966e-01,  2.7439e-01,  3.7803e-01]],\n",
       "\n",
       "        [[ 0.0000e+00,  0.0000e+00,  0.0000e+00,  0.0000e+00,  0.0000e+00]],\n",
       "\n",
       "        [[ 2.0364e-01,  6.8460e-01, -1.5562e-02,  1.2302e-02,  1.5932e-01]],\n",
       "\n",
       "        [[ 0.0000e+00,  0.0000e+00,  0.0000e+00,  0.0000e+00,  0.0000e+00]],\n",
       "\n",
       "        [[ 0.0000e+00,  0.0000e+00,  0.0000e+00,  0.0000e+00,  0.0000e+00]],\n",
       "\n",
       "        [[ 5.1363e-02,  1.7213e-01, -3.2407e-03,  2.6316e-03,  3.9420e-02]],\n",
       "\n",
       "        [[ 6.6535e-02,  2.6460e-01, -5.7214e-02,  3.9908e-02,  1.1025e-01]],\n",
       "\n",
       "        [[ 0.0000e+00,  0.0000e+00,  0.0000e+00,  0.0000e+00,  0.0000e+00]],\n",
       "\n",
       "        [[ 5.2601e-02,  1.5980e-01,  1.7673e-02, -1.1757e-02,  1.6935e-02]],\n",
       "\n",
       "        [[ 0.0000e+00,  0.0000e+00,  0.0000e+00,  0.0000e+00,  0.0000e+00]],\n",
       "\n",
       "        [[ 2.2788e-01,  6.9229e-01,  7.6564e-02, -5.0934e-02,  7.3365e-02]],\n",
       "\n",
       "        [[-2.5039e-02,  1.7531e-01, -3.2858e-01,  2.2602e-01,  3.4938e-01]],\n",
       "\n",
       "        [[ 1.9037e-01,  5.7833e-01,  6.3961e-02, -4.2550e-02,  6.1289e-02]],\n",
       "\n",
       "        [[ 8.7012e-02,  3.9388e-01, -1.3575e-01,  9.4138e-02,  2.1221e-01]],\n",
       "\n",
       "        [[ 3.7629e-02,  1.1431e-01,  1.2643e-02, -8.4106e-03,  1.2115e-02]]],\n",
       "       grad_fn=<UnsafeViewBackward0>)"
      ]
     },
     "execution_count": 13,
     "metadata": {},
     "output_type": "execute_result"
    }
   ],
   "source": [
    "model(batch)"
   ]
  }
 ],
 "metadata": {
  "kernelspec": {
   "display_name": "crypto",
   "language": "python",
   "name": "python3"
  },
  "language_info": {
   "codemirror_mode": {
    "name": "ipython",
    "version": 3
   },
   "file_extension": ".py",
   "mimetype": "text/x-python",
   "name": "python",
   "nbconvert_exporter": "python",
   "pygments_lexer": "ipython3",
   "version": "3.12.8"
  }
 },
 "nbformat": 4,
 "nbformat_minor": 2
}
