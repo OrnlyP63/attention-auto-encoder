{
 "cells": [
  {
   "cell_type": "code",
   "execution_count": 1,
   "metadata": {},
   "outputs": [],
   "source": [
    "%load_ext autoreload\n",
    "%autoreload 2\n",
    "\n",
    "import torch\n",
    "from utility.attentionAutoEncoder import AttentionAutoEncoder, concate_data, AttentionDataset, get_return_from_batch\n",
    "from torch.utils.data import DataLoader"
   ]
  },
  {
   "cell_type": "code",
   "execution_count": 2,
   "metadata": {},
   "outputs": [],
   "source": [
    "model = AttentionAutoEncoder(3, 5, 2)"
   ]
  },
  {
   "cell_type": "code",
   "execution_count": 3,
   "metadata": {},
   "outputs": [
    {
     "data": {
      "text/plain": [
       "tensor([[-0.9841, -0.0858, -0.2676, -0.6660,  2.5981],\n",
       "        [ 0.4570, -1.9652,  1.9814,  0.4780,  0.5148],\n",
       "        [-0.1789, -0.7489, -0.1584,  1.7823,  0.1104]])"
      ]
     },
     "execution_count": 3,
     "metadata": {},
     "output_type": "execute_result"
    }
   ],
   "source": [
    "input_data = torch.randn(3, 5)\n",
    "input_data"
   ]
  },
  {
   "cell_type": "code",
   "execution_count": 4,
   "metadata": {},
   "outputs": [
    {
     "data": {
      "text/plain": [
       "tensor([[-0.3122,  0.4453, -0.1829,  0.1454, -0.7825]], grad_fn=<MmBackward0>)"
      ]
     },
     "execution_count": 4,
     "metadata": {},
     "output_type": "execute_result"
    }
   ],
   "source": [
    "model(input_data)"
   ]
  },
  {
   "cell_type": "code",
   "execution_count": 5,
   "metadata": {},
   "outputs": [],
   "source": [
    "import pandas as pd\n",
    "from utility.data_processing import set_time_data"
   ]
  },
  {
   "cell_type": "code",
   "execution_count": 6,
   "metadata": {},
   "outputs": [],
   "source": [
    "dfs = dict()\n",
    "for ticker in ['btc', 'eth', 'doge', 'xrp', 'ada']:\n",
    "  currency_metrics = pd.read_csv(f'../data/{ticker}_metrics_5_years.csv')\n",
    "  set_currency_metrics = set_time_data(currency_metrics)\n",
    "  dfs[ticker] = set_currency_metrics"
   ]
  },
  {
   "cell_type": "code",
   "execution_count": 7,
   "metadata": {},
   "outputs": [],
   "source": [
    "res, test_res = concate_data(dfs, day_split='2023-12-31')"
   ]
  },
  {
   "cell_type": "code",
   "execution_count": 8,
   "metadata": {},
   "outputs": [
    {
     "data": {
      "text/plain": [
       "torch.Size([3, 5, 1458])"
      ]
     },
     "execution_count": 8,
     "metadata": {},
     "output_type": "execute_result"
    }
   ],
   "source": [
    "res.shape"
   ]
  },
  {
   "cell_type": "code",
   "execution_count": 9,
   "metadata": {},
   "outputs": [],
   "source": [
    "X_t = res[:, :, 0]"
   ]
  },
  {
   "cell_type": "code",
   "execution_count": 10,
   "metadata": {},
   "outputs": [
    {
     "data": {
      "text/plain": [
       "tensor([[-0.0011,  0.0016, -0.0007,  0.0005, -0.0029]], grad_fn=<MmBackward0>)"
      ]
     },
     "execution_count": 10,
     "metadata": {},
     "output_type": "execute_result"
    }
   ],
   "source": [
    "model(X_t)"
   ]
  },
  {
   "cell_type": "code",
   "execution_count": 11,
   "metadata": {},
   "outputs": [
    {
     "data": {
      "text/plain": [
       "5"
      ]
     },
     "execution_count": 11,
     "metadata": {},
     "output_type": "execute_result"
    }
   ],
   "source": [
    "X_t.shape[-1]"
   ]
  },
  {
   "cell_type": "code",
   "execution_count": 12,
   "metadata": {},
   "outputs": [
    {
     "name": "stdout",
     "output_type": "stream",
     "text": [
      "torch.Size([50, 3, 5])\n"
     ]
    }
   ],
   "source": [
    "# Create DataSet\n",
    "training_dataset = AttentionDataset(res)\n",
    "test_dataset = AttentionDataset(test_res)\n",
    "\n",
    "# Create DataLoader\n",
    "training_dataloader = DataLoader(training_dataset, batch_size=50, shuffle=False, num_workers=0)\n",
    "test_dataloader = DataLoader(test_dataset, batch_size=1, shuffle=False, num_workers=0)\n",
    "\n",
    "# Iterate through DataLoader\n",
    "for batch in training_dataloader:\n",
    "    print(batch.shape)  # Output: torch.Size([10, 5])\n",
    "    break  # To print only one batch"
   ]
  },
  {
   "cell_type": "code",
   "execution_count": 13,
   "metadata": {},
   "outputs": [],
   "source": [
    "# get_return_from_batch(batch)"
   ]
  },
  {
   "cell_type": "code",
   "execution_count": 14,
   "metadata": {},
   "outputs": [],
   "source": [
    "# model(batch)"
   ]
  },
  {
   "cell_type": "code",
   "execution_count": 15,
   "metadata": {},
   "outputs": [],
   "source": [
    "import torch.nn as nn\n",
    "import torch.optim as optim"
   ]
  },
  {
   "cell_type": "code",
   "execution_count": 16,
   "metadata": {},
   "outputs": [],
   "source": [
    "criterion = nn.MSELoss()  # Mean Squared Error for reconstruction\n",
    "optimizer = optim.Adam(model.parameters(), lr=0.001)"
   ]
  },
  {
   "cell_type": "code",
   "execution_count": 17,
   "metadata": {},
   "outputs": [
    {
     "name": "stdout",
     "output_type": "stream",
     "text": [
      "Epoch [1/50], Loss: 0.6895\n",
      "Epoch [2/50], Loss: 0.5238\n",
      "Epoch [3/50], Loss: 0.4127\n",
      "Epoch [4/50], Loss: 0.3319\n",
      "Epoch [5/50], Loss: 0.2711\n",
      "Epoch [6/50], Loss: 0.2240\n",
      "Epoch [7/50], Loss: 0.1868\n",
      "Epoch [8/50], Loss: 0.1567\n",
      "Epoch [9/50], Loss: 0.1320\n",
      "Epoch [10/50], Loss: 0.1114\n",
      "Epoch [11/50], Loss: 0.0941\n",
      "Epoch [12/50], Loss: 0.0792\n",
      "Epoch [13/50], Loss: 0.0662\n",
      "Epoch [14/50], Loss: 0.0545\n",
      "Epoch [15/50], Loss: 0.0440\n",
      "Epoch [16/50], Loss: 0.0349\n",
      "Epoch [17/50], Loss: 0.0274\n",
      "Epoch [18/50], Loss: 0.0218\n",
      "Epoch [19/50], Loss: 0.0179\n",
      "Epoch [20/50], Loss: 0.0151\n",
      "Epoch [21/50], Loss: 0.0131\n",
      "Epoch [22/50], Loss: 0.0115\n",
      "Epoch [23/50], Loss: 0.0102\n",
      "Epoch [24/50], Loss: 0.0092\n",
      "Epoch [25/50], Loss: 0.0084\n",
      "Epoch [26/50], Loss: 0.0077\n",
      "Epoch [27/50], Loss: 0.0072\n",
      "Epoch [28/50], Loss: 0.0067\n",
      "Epoch [29/50], Loss: 0.0063\n",
      "Epoch [30/50], Loss: 0.0060\n",
      "Epoch [31/50], Loss: 0.0057\n",
      "Epoch [32/50], Loss: 0.0055\n",
      "Epoch [33/50], Loss: 0.0053\n",
      "Epoch [34/50], Loss: 0.0051\n",
      "Epoch [35/50], Loss: 0.0050\n",
      "Epoch [36/50], Loss: 0.0048\n",
      "Epoch [37/50], Loss: 0.0047\n",
      "Epoch [38/50], Loss: 0.0046\n",
      "Epoch [39/50], Loss: 0.0046\n",
      "Epoch [40/50], Loss: 0.0045\n",
      "Epoch [41/50], Loss: 0.0044\n",
      "Epoch [42/50], Loss: 0.0044\n",
      "Epoch [43/50], Loss: 0.0043\n",
      "Epoch [44/50], Loss: 0.0043\n",
      "Epoch [45/50], Loss: 0.0042\n",
      "Epoch [46/50], Loss: 0.0042\n",
      "Epoch [47/50], Loss: 0.0041\n",
      "Epoch [48/50], Loss: 0.0041\n",
      "Epoch [49/50], Loss: 0.0041\n",
      "Epoch [50/50], Loss: 0.0040\n"
     ]
    }
   ],
   "source": [
    "num_epochs = 50\n",
    "\n",
    "for epoch in range(num_epochs):\n",
    "    total_loss = 0\n",
    "    for X_t in training_dataloader:\n",
    "        R_T = get_return_from_batch(X_t)\n",
    "        # Forward pass\n",
    "        R_T_hat = model(X_t)\n",
    "        loss = criterion(R_T_hat, R_T)\n",
    "        \n",
    "        # Backpropagation\n",
    "        optimizer.zero_grad()\n",
    "        loss.backward()\n",
    "        optimizer.step()\n",
    "\n",
    "        total_loss += loss.item()\n",
    "    avg_loss = total_loss / len(training_dataloader)\n",
    "    print(f\"Epoch [{epoch+1}/{num_epochs}], Loss: {avg_loss:.4f}\")"
   ]
  },
  {
   "cell_type": "code",
   "execution_count": 18,
   "metadata": {},
   "outputs": [],
   "source": [
    "errors = []\n",
    "for X_t in training_dataloader:\n",
    "  R_T = get_return_from_batch(X_t)\n",
    "  # Forward pass\n",
    "  R_T_hat = model(X_t)\n",
    "  err = (R_T_hat - R_T).squeeze(1) # try to find top R_T_hat\n",
    "  errors.append(err)"
   ]
  },
  {
   "cell_type": "code",
   "execution_count": 19,
   "metadata": {},
   "outputs": [
    {
     "data": {
      "text/plain": [
       "torch.Size([1458, 5])"
      ]
     },
     "execution_count": 19,
     "metadata": {},
     "output_type": "execute_result"
    }
   ],
   "source": [
    "stacked_error = torch.cat(errors, dim=0) \n",
    "stacked_error.shape"
   ]
  },
  {
   "cell_type": "code",
   "execution_count": 20,
   "metadata": {},
   "outputs": [
    {
     "data": {
      "text/plain": [
       "tensor([0.0207, 0.0850, 0.0611, 0.0296, 0.0450], grad_fn=<SqueezeBackward4>)"
      ]
     },
     "execution_count": 20,
     "metadata": {},
     "output_type": "execute_result"
    }
   ],
   "source": [
    "q90 = torch.quantile(stacked_error, 0.90, dim=0)\n",
    "q90"
   ]
  },
  {
   "cell_type": "code",
   "execution_count": 27,
   "metadata": {},
   "outputs": [],
   "source": [
    "anomalies_list = []\n",
    "returns_list = []\n",
    "threshold = avg_loss * 1.5  # Set an anomaly threshold\n",
    "for X_t in test_dataloader:\n",
    "    R_T = get_return_from_batch(X_t)\n",
    "    R_T_hat = model(X_t)\n",
    "\n",
    "    err = (R_T_hat - R_T).squeeze(1)\n",
    "    anomalies = err >= q90\n",
    "    anomalies_list.append(anomalies)\n",
    "    returns_list.append(R_T)"
   ]
  },
  {
   "cell_type": "code",
   "execution_count": 38,
   "metadata": {},
   "outputs": [],
   "source": [
    "anomalies_detection = torch.concat(anomalies_list)\n",
    "all_returns = torch.concat(returns_list).squeeze(1)"
   ]
  },
  {
   "cell_type": "code",
   "execution_count": 33,
   "metadata": {},
   "outputs": [
    {
     "data": {
      "text/plain": [
       "tensor([31, 32, 31, 28, 30])"
      ]
     },
     "execution_count": 33,
     "metadata": {},
     "output_type": "execute_result"
    }
   ],
   "source": [
    "anomalies_detection.sum(dim=0)"
   ]
  },
  {
   "cell_type": "code",
   "execution_count": 34,
   "metadata": {},
   "outputs": [
    {
     "data": {
      "text/plain": [
       "array([[False, False, False, False, False],\n",
       "       [False, False, False, False, False],\n",
       "       [False,  True,  True, False,  True],\n",
       "       ...,\n",
       "       [False, False, False, False, False],\n",
       "       [False, False, False, False, False],\n",
       "       [False, False, False, False, False]])"
      ]
     },
     "execution_count": 34,
     "metadata": {},
     "output_type": "execute_result"
    }
   ],
   "source": [
    "anomalies_detection.numpy()"
   ]
  },
  {
   "cell_type": "code",
   "execution_count": 39,
   "metadata": {},
   "outputs": [
    {
     "data": {
      "text/plain": [
       "array([[ 0.04248666,  0.02955466,  0.02979293,  0.02624824,  0.05020779],\n",
       "       [ 0.02004069,  0.00433265, -0.00832219, -0.00529069, -0.02655358],\n",
       "       [-0.04943179, -0.0658676 , -0.107687  , -0.07494581, -0.08653914],\n",
       "       ...,\n",
       "       [-0.01766928, -0.01487776, -0.03122776, -0.04329219, -0.03598882],\n",
       "       [-0.0100486 ,  0.00254795, -0.00297066, -0.01699607,  0.00157149],\n",
       "       [ 0.00932239, -0.00688175,  0.00836564,  0.01134853, -0.01749099]],\n",
       "      dtype=float32)"
      ]
     },
     "execution_count": 39,
     "metadata": {},
     "output_type": "execute_result"
    }
   ],
   "source": [
    "all_returns.numpy()"
   ]
  },
  {
   "cell_type": "code",
   "execution_count": 41,
   "metadata": {},
   "outputs": [],
   "source": [
    "import numpy as np"
   ]
  },
  {
   "cell_type": "code",
   "execution_count": 44,
   "metadata": {},
   "outputs": [],
   "source": [
    "with open('./numpyarray/anomalies_test.npy', 'wb') as f:\n",
    "    np.save(f, anomalies_detection.numpy())"
   ]
  },
  {
   "cell_type": "code",
   "execution_count": 45,
   "metadata": {},
   "outputs": [],
   "source": [
    "with open('./numpyarray/returns_test.npy', 'wb') as f:\n",
    "    np.save(f, all_returns.numpy())"
   ]
  }
 ],
 "metadata": {
  "kernelspec": {
   "display_name": "crypto",
   "language": "python",
   "name": "python3"
  },
  "language_info": {
   "codemirror_mode": {
    "name": "ipython",
    "version": 3
   },
   "file_extension": ".py",
   "mimetype": "text/x-python",
   "name": "python",
   "nbconvert_exporter": "python",
   "pygments_lexer": "ipython3",
   "version": "3.12.8"
  }
 },
 "nbformat": 4,
 "nbformat_minor": 2
}
