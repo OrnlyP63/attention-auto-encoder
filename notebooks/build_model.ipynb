{
 "cells": [
  {
   "cell_type": "code",
   "execution_count": 17,
   "metadata": {},
   "outputs": [
    {
     "name": "stdout",
     "output_type": "stream",
     "text": [
      "The autoreload extension is already loaded. To reload it, use:\n",
      "  %reload_ext autoreload\n"
     ]
    }
   ],
   "source": [
    "%load_ext autoreload\n",
    "%autoreload 2\n",
    "\n",
    "import torch\n",
    "from utility.attentionAutoEncoder import AttentionAutoEncoder, concate_data, AttentionDataset, get_return_from_batch\n",
    "from torch.utils.data import DataLoader"
   ]
  },
  {
   "cell_type": "code",
   "execution_count": 2,
   "metadata": {},
   "outputs": [],
   "source": [
    "model = AttentionAutoEncoder(3, 5, 2)"
   ]
  },
  {
   "cell_type": "code",
   "execution_count": 3,
   "metadata": {},
   "outputs": [
    {
     "data": {
      "text/plain": [
       "tensor([[-0.5975, -0.6707, -0.1882, -0.2758,  0.0063],\n",
       "        [-0.2311,  0.8977, -0.6596, -0.2374, -0.7762],\n",
       "        [ 0.1455,  0.4327,  0.6082,  1.6839,  0.6171]])"
      ]
     },
     "execution_count": 3,
     "metadata": {},
     "output_type": "execute_result"
    }
   ],
   "source": [
    "input_data = torch.randn(3, 5)\n",
    "input_data"
   ]
  },
  {
   "cell_type": "code",
   "execution_count": 4,
   "metadata": {},
   "outputs": [
    {
     "data": {
      "text/plain": [
       "tensor([[ 0.4820,  6.7751, -6.6022,  4.5491,  7.7067]], grad_fn=<MmBackward0>)"
      ]
     },
     "execution_count": 4,
     "metadata": {},
     "output_type": "execute_result"
    }
   ],
   "source": [
    "model(input_data)"
   ]
  },
  {
   "cell_type": "code",
   "execution_count": 5,
   "metadata": {},
   "outputs": [],
   "source": [
    "import pandas as pd\n",
    "from utility.data_processing import set_time_data"
   ]
  },
  {
   "cell_type": "code",
   "execution_count": 6,
   "metadata": {},
   "outputs": [],
   "source": [
    "dfs = dict()\n",
    "for ticker in ['btc', 'eth', 'doge', 'xrp', 'ada']:\n",
    "  currency_metrics = pd.read_csv(f'../data/{ticker}_metrics_5_years.csv')\n",
    "  set_currency_metrics = set_time_data(currency_metrics)\n",
    "  dfs[ticker] = set_currency_metrics"
   ]
  },
  {
   "cell_type": "code",
   "execution_count": 7,
   "metadata": {},
   "outputs": [],
   "source": [
    "res = concate_data(dfs)"
   ]
  },
  {
   "cell_type": "code",
   "execution_count": 8,
   "metadata": {},
   "outputs": [],
   "source": [
    "X_t = res[:, :, 0]"
   ]
  },
  {
   "cell_type": "code",
   "execution_count": 9,
   "metadata": {},
   "outputs": [
    {
     "data": {
      "text/plain": [
       "tensor([[-0.0183, -0.0017, -0.0749,  0.0514,  0.0709]], grad_fn=<MmBackward0>)"
      ]
     },
     "execution_count": 9,
     "metadata": {},
     "output_type": "execute_result"
    }
   ],
   "source": [
    "model(X_t)"
   ]
  },
  {
   "cell_type": "code",
   "execution_count": 10,
   "metadata": {},
   "outputs": [
    {
     "data": {
      "text/plain": [
       "5"
      ]
     },
     "execution_count": 10,
     "metadata": {},
     "output_type": "execute_result"
    }
   ],
   "source": [
    "X_t.shape[-1]"
   ]
  },
  {
   "cell_type": "code",
   "execution_count": null,
   "metadata": {},
   "outputs": [
    {
     "name": "stdout",
     "output_type": "stream",
     "text": [
      "torch.Size([50, 3, 5])\n"
     ]
    }
   ],
   "source": [
    "# Create DataSet\n",
    "dataset = AttentionDataset(res)\n",
    "\n",
    "# Create DataLoader\n",
    "dataloader = DataLoader(dataset, batch_size=50, shuffle=True, num_workers=0)\n",
    "\n",
    "# Iterate through DataLoader\n",
    "for batch in dataloader:\n",
    "    print(batch.shape)  # Output: torch.Size([10, 5])\n",
    "    break  # To print only one batch"
   ]
  },
  {
   "cell_type": "code",
   "execution_count": 33,
   "metadata": {},
   "outputs": [],
   "source": [
    "# get_return_from_batch(batch)"
   ]
  },
  {
   "cell_type": "code",
   "execution_count": 14,
   "metadata": {},
   "outputs": [],
   "source": [
    "# model(batch)"
   ]
  },
  {
   "cell_type": "code",
   "execution_count": 15,
   "metadata": {},
   "outputs": [],
   "source": [
    "import torch.nn as nn\n",
    "import torch.optim as optim"
   ]
  },
  {
   "cell_type": "code",
   "execution_count": 16,
   "metadata": {},
   "outputs": [],
   "source": [
    "criterion = nn.MSELoss()  # Mean Squared Error for reconstruction\n",
    "optimizer = optim.Adam(model.parameters(), lr=0.001)"
   ]
  },
  {
   "cell_type": "code",
   "execution_count": 32,
   "metadata": {},
   "outputs": [
    {
     "name": "stdout",
     "output_type": "stream",
     "text": [
      "Epoch [1/50], Loss: 0.2295\n",
      "Epoch [2/50], Loss: 0.1994\n",
      "Epoch [3/50], Loss: 0.1787\n",
      "Epoch [4/50], Loss: 0.1572\n",
      "Epoch [5/50], Loss: 0.1416\n",
      "Epoch [6/50], Loss: 0.1265\n",
      "Epoch [7/50], Loss: 0.1166\n",
      "Epoch [8/50], Loss: 0.1029\n",
      "Epoch [9/50], Loss: 0.0930\n",
      "Epoch [10/50], Loss: 0.0844\n",
      "Epoch [11/50], Loss: 0.0751\n",
      "Epoch [12/50], Loss: 0.0674\n",
      "Epoch [13/50], Loss: 0.0613\n",
      "Epoch [14/50], Loss: 0.0545\n",
      "Epoch [15/50], Loss: 0.0486\n",
      "Epoch [16/50], Loss: 0.0437\n",
      "Epoch [17/50], Loss: 0.0391\n",
      "Epoch [18/50], Loss: 0.0348\n",
      "Epoch [19/50], Loss: 0.0316\n",
      "Epoch [20/50], Loss: 0.0282\n",
      "Epoch [21/50], Loss: 0.0255\n",
      "Epoch [22/50], Loss: 0.0232\n",
      "Epoch [23/50], Loss: 0.0209\n",
      "Epoch [24/50], Loss: 0.0190\n",
      "Epoch [25/50], Loss: 0.0177\n",
      "Epoch [26/50], Loss: 0.0163\n",
      "Epoch [27/50], Loss: 0.0149\n",
      "Epoch [28/50], Loss: 0.0139\n",
      "Epoch [29/50], Loss: 0.0128\n",
      "Epoch [30/50], Loss: 0.0120\n",
      "Epoch [31/50], Loss: 0.0113\n",
      "Epoch [32/50], Loss: 0.0106\n",
      "Epoch [33/50], Loss: 0.0099\n",
      "Epoch [34/50], Loss: 0.0093\n",
      "Epoch [35/50], Loss: 0.0090\n",
      "Epoch [36/50], Loss: 0.0084\n",
      "Epoch [37/50], Loss: 0.0079\n",
      "Epoch [38/50], Loss: 0.0077\n",
      "Epoch [39/50], Loss: 0.0075\n",
      "Epoch [40/50], Loss: 0.0073\n",
      "Epoch [41/50], Loss: 0.0069\n",
      "Epoch [42/50], Loss: 0.0069\n",
      "Epoch [43/50], Loss: 0.0065\n",
      "Epoch [44/50], Loss: 0.0061\n",
      "Epoch [45/50], Loss: 0.0059\n",
      "Epoch [46/50], Loss: 0.0057\n",
      "Epoch [47/50], Loss: 0.0054\n",
      "Epoch [48/50], Loss: 0.0055\n",
      "Epoch [49/50], Loss: 0.0051\n",
      "Epoch [50/50], Loss: 0.0050\n"
     ]
    }
   ],
   "source": [
    "num_epochs = 50\n",
    "\n",
    "for epoch in range(num_epochs):\n",
    "    total_loss = 0\n",
    "    for X_t in dataloader:\n",
    "        R_T = get_return_from_batch(X_t)\n",
    "        # Forward pass\n",
    "        R_T_hat = model(X_t)\n",
    "        loss = criterion(R_T_hat, R_T)\n",
    "        \n",
    "        # Backpropagation\n",
    "        optimizer.zero_grad()\n",
    "        loss.backward()\n",
    "        optimizer.step()\n",
    "\n",
    "        total_loss += loss.item()\n",
    "    avg_loss = total_loss / len(dataloader)\n",
    "    print(f\"Epoch [{epoch+1}/{num_epochs}], Loss: {avg_loss:.4f}\")"
   ]
  }
 ],
 "metadata": {
  "kernelspec": {
   "display_name": "crypto",
   "language": "python",
   "name": "python3"
  },
  "language_info": {
   "codemirror_mode": {
    "name": "ipython",
    "version": 3
   },
   "file_extension": ".py",
   "mimetype": "text/x-python",
   "name": "python",
   "nbconvert_exporter": "python",
   "pygments_lexer": "ipython3",
   "version": "3.12.8"
  }
 },
 "nbformat": 4,
 "nbformat_minor": 2
}
