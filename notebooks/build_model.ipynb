{
 "cells": [
  {
   "cell_type": "code",
   "execution_count": 46,
   "metadata": {},
   "outputs": [
    {
     "name": "stdout",
     "output_type": "stream",
     "text": [
      "The autoreload extension is already loaded. To reload it, use:\n",
      "  %reload_ext autoreload\n"
     ]
    }
   ],
   "source": [
    "%load_ext autoreload\n",
    "%autoreload 2\n",
    "\n",
    "import torch\n",
    "from utility.attentionAutoEncoder import AttentionAutoEncoder, concate_data, AttentionDataset, get_return_from_batch\n",
    "from torch.utils.data import DataLoader"
   ]
  },
  {
   "cell_type": "code",
   "execution_count": 47,
   "metadata": {},
   "outputs": [],
   "source": [
    "model = AttentionAutoEncoder(3, 5, 2)"
   ]
  },
  {
   "cell_type": "code",
   "execution_count": 48,
   "metadata": {},
   "outputs": [
    {
     "data": {
      "text/plain": [
       "tensor([[-0.9263,  0.9470, -0.1670,  0.6672,  1.5584],\n",
       "        [ 0.9220,  1.7494, -0.2369, -0.3122, -0.7025],\n",
       "        [ 1.1051, -0.6438, -0.3345,  0.8968,  0.9512]])"
      ]
     },
     "execution_count": 48,
     "metadata": {},
     "output_type": "execute_result"
    }
   ],
   "source": [
    "input_data = torch.randn(3, 5)\n",
    "input_data"
   ]
  },
  {
   "cell_type": "code",
   "execution_count": 49,
   "metadata": {},
   "outputs": [
    {
     "data": {
      "text/plain": [
       "tensor([[ 0.1883,  0.3997,  0.6194,  0.1787, -0.1697]], grad_fn=<MmBackward0>)"
      ]
     },
     "execution_count": 49,
     "metadata": {},
     "output_type": "execute_result"
    }
   ],
   "source": [
    "model(input_data)"
   ]
  },
  {
   "cell_type": "code",
   "execution_count": 50,
   "metadata": {},
   "outputs": [],
   "source": [
    "import pandas as pd\n",
    "from utility.data_processing import set_time_data"
   ]
  },
  {
   "cell_type": "code",
   "execution_count": 51,
   "metadata": {},
   "outputs": [],
   "source": [
    "dfs = dict()\n",
    "for ticker in ['btc', 'eth', 'doge', 'xrp', 'ada']:\n",
    "  currency_metrics = pd.read_csv(f'../data/{ticker}_metrics_5_years.csv')\n",
    "  set_currency_metrics = set_time_data(currency_metrics)\n",
    "  dfs[ticker] = set_currency_metrics"
   ]
  },
  {
   "cell_type": "code",
   "execution_count": 52,
   "metadata": {},
   "outputs": [],
   "source": [
    "res, test_res = concate_data(dfs, day_split='2023-12-31')"
   ]
  },
  {
   "cell_type": "code",
   "execution_count": 53,
   "metadata": {},
   "outputs": [
    {
     "data": {
      "text/plain": [
       "torch.Size([3, 5, 1458])"
      ]
     },
     "execution_count": 53,
     "metadata": {},
     "output_type": "execute_result"
    }
   ],
   "source": [
    "res.shape"
   ]
  },
  {
   "cell_type": "code",
   "execution_count": 54,
   "metadata": {},
   "outputs": [],
   "source": [
    "X_t = res[:, :, 0]"
   ]
  },
  {
   "cell_type": "code",
   "execution_count": 55,
   "metadata": {},
   "outputs": [
    {
     "data": {
      "text/plain": [
       "tensor([[ 0.0046,  0.0098,  0.0152,  0.0044, -0.0042]], grad_fn=<MmBackward0>)"
      ]
     },
     "execution_count": 55,
     "metadata": {},
     "output_type": "execute_result"
    }
   ],
   "source": [
    "model(X_t)"
   ]
  },
  {
   "cell_type": "code",
   "execution_count": 56,
   "metadata": {},
   "outputs": [
    {
     "data": {
      "text/plain": [
       "5"
      ]
     },
     "execution_count": 56,
     "metadata": {},
     "output_type": "execute_result"
    }
   ],
   "source": [
    "X_t.shape[-1]"
   ]
  },
  {
   "cell_type": "code",
   "execution_count": 63,
   "metadata": {},
   "outputs": [
    {
     "name": "stdout",
     "output_type": "stream",
     "text": [
      "torch.Size([50, 3, 5])\n"
     ]
    }
   ],
   "source": [
    "# Create DataSet\n",
    "training_dataset = AttentionDataset(res)\n",
    "test_dataset = AttentionDataset(test_res)\n",
    "\n",
    "# Create DataLoader\n",
    "training_dataloader = DataLoader(training_dataset, batch_size=50, shuffle=False, num_workers=0)\n",
    "test_dataloader = DataLoader(test_dataset, batch_size=1, shuffle=False, num_workers=0)\n",
    "\n",
    "# Iterate through DataLoader\n",
    "for batch in training_dataloader:\n",
    "    print(batch.shape)  # Output: torch.Size([10, 5])\n",
    "    break  # To print only one batch"
   ]
  },
  {
   "cell_type": "code",
   "execution_count": 58,
   "metadata": {},
   "outputs": [],
   "source": [
    "# get_return_from_batch(batch)"
   ]
  },
  {
   "cell_type": "code",
   "execution_count": 59,
   "metadata": {},
   "outputs": [],
   "source": [
    "# model(batch)"
   ]
  },
  {
   "cell_type": "code",
   "execution_count": 60,
   "metadata": {},
   "outputs": [],
   "source": [
    "import torch.nn as nn\n",
    "import torch.optim as optim"
   ]
  },
  {
   "cell_type": "code",
   "execution_count": 61,
   "metadata": {},
   "outputs": [],
   "source": [
    "criterion = nn.MSELoss()  # Mean Squared Error for reconstruction\n",
    "optimizer = optim.Adam(model.parameters(), lr=0.001)"
   ]
  },
  {
   "cell_type": "code",
   "execution_count": 62,
   "metadata": {},
   "outputs": [
    {
     "name": "stdout",
     "output_type": "stream",
     "text": [
      "Epoch [1/50], Loss: 0.1256\n",
      "Epoch [2/50], Loss: 0.0629\n",
      "Epoch [3/50], Loss: 0.0331\n",
      "Epoch [4/50], Loss: 0.0190\n",
      "Epoch [5/50], Loss: 0.0126\n",
      "Epoch [6/50], Loss: 0.0098\n",
      "Epoch [7/50], Loss: 0.0084\n",
      "Epoch [8/50], Loss: 0.0077\n",
      "Epoch [9/50], Loss: 0.0072\n",
      "Epoch [10/50], Loss: 0.0069\n",
      "Epoch [11/50], Loss: 0.0065\n",
      "Epoch [12/50], Loss: 0.0062\n",
      "Epoch [13/50], Loss: 0.0059\n",
      "Epoch [14/50], Loss: 0.0057\n",
      "Epoch [15/50], Loss: 0.0054\n",
      "Epoch [16/50], Loss: 0.0052\n",
      "Epoch [17/50], Loss: 0.0050\n",
      "Epoch [18/50], Loss: 0.0048\n",
      "Epoch [19/50], Loss: 0.0047\n",
      "Epoch [20/50], Loss: 0.0045\n",
      "Epoch [21/50], Loss: 0.0044\n",
      "Epoch [22/50], Loss: 0.0042\n",
      "Epoch [23/50], Loss: 0.0041\n",
      "Epoch [24/50], Loss: 0.0040\n",
      "Epoch [25/50], Loss: 0.0039\n",
      "Epoch [26/50], Loss: 0.0038\n",
      "Epoch [27/50], Loss: 0.0037\n",
      "Epoch [28/50], Loss: 0.0036\n",
      "Epoch [29/50], Loss: 0.0036\n",
      "Epoch [30/50], Loss: 0.0035\n",
      "Epoch [31/50], Loss: 0.0034\n",
      "Epoch [32/50], Loss: 0.0034\n",
      "Epoch [33/50], Loss: 0.0033\n",
      "Epoch [34/50], Loss: 0.0033\n",
      "Epoch [35/50], Loss: 0.0032\n",
      "Epoch [36/50], Loss: 0.0032\n",
      "Epoch [37/50], Loss: 0.0032\n",
      "Epoch [38/50], Loss: 0.0031\n",
      "Epoch [39/50], Loss: 0.0031\n",
      "Epoch [40/50], Loss: 0.0031\n",
      "Epoch [41/50], Loss: 0.0030\n",
      "Epoch [42/50], Loss: 0.0030\n",
      "Epoch [43/50], Loss: 0.0030\n",
      "Epoch [44/50], Loss: 0.0030\n",
      "Epoch [45/50], Loss: 0.0029\n",
      "Epoch [46/50], Loss: 0.0029\n",
      "Epoch [47/50], Loss: 0.0029\n",
      "Epoch [48/50], Loss: 0.0029\n",
      "Epoch [49/50], Loss: 0.0029\n",
      "Epoch [50/50], Loss: 0.0029\n"
     ]
    }
   ],
   "source": [
    "num_epochs = 50\n",
    "\n",
    "for epoch in range(num_epochs):\n",
    "    total_loss = 0\n",
    "    for X_t in training_dataloader:\n",
    "        R_T = get_return_from_batch(X_t)\n",
    "        # Forward pass\n",
    "        R_T_hat = model(X_t)\n",
    "        loss = criterion(R_T_hat, R_T)\n",
    "        \n",
    "        # Backpropagation\n",
    "        optimizer.zero_grad()\n",
    "        loss.backward()\n",
    "        optimizer.step()\n",
    "\n",
    "        total_loss += loss.item()\n",
    "    avg_loss = total_loss / len(training_dataloader)\n",
    "    print(f\"Epoch [{epoch+1}/{num_epochs}], Loss: {avg_loss:.4f}\")"
   ]
  },
  {
   "cell_type": "code",
   "execution_count": 78,
   "metadata": {},
   "outputs": [],
   "source": [
    "errors = []\n",
    "for X_t in training_dataloader:\n",
    "  R_T = get_return_from_batch(X_t)\n",
    "  # Forward pass\n",
    "  R_T_hat = model(X_t)\n",
    "  err = (R_T_hat - R_T).squeeze(1) # try to find top R_T_hat\n",
    "  errors.append(err)"
   ]
  },
  {
   "cell_type": "code",
   "execution_count": 82,
   "metadata": {},
   "outputs": [
    {
     "data": {
      "text/plain": [
       "torch.Size([1458, 5])"
      ]
     },
     "execution_count": 82,
     "metadata": {},
     "output_type": "execute_result"
    }
   ],
   "source": [
    "stacked_error = torch.cat(errors, dim=0) \n",
    "stacked_error.shape"
   ]
  },
  {
   "cell_type": "code",
   "execution_count": 83,
   "metadata": {},
   "outputs": [
    {
     "data": {
      "text/plain": [
       "tensor([0.0289, 0.0529, 0.0571, 0.0446, 0.0407], grad_fn=<SqueezeBackward4>)"
      ]
     },
     "execution_count": 83,
     "metadata": {},
     "output_type": "execute_result"
    }
   ],
   "source": [
    "q90 = torch.quantile(stacked_error, 0.90, dim=0)\n",
    "q90"
   ]
  },
  {
   "cell_type": "code",
   "execution_count": 84,
   "metadata": {},
   "outputs": [],
   "source": [
    "anomalies_list = []\n",
    "threshold = avg_loss * 1.5  # Set an anomaly threshold\n",
    "for X_t in test_dataloader:\n",
    "    R_T = get_return_from_batch(X_t)\n",
    "    R_T_hat = model(X_t)\n",
    "\n",
    "    err = (R_T_hat - R_T).squeeze(1)\n",
    "    anomalies = err >= q90\n",
    "    anomalies_list.append(anomalies)"
   ]
  },
  {
   "cell_type": "code",
   "execution_count": 87,
   "metadata": {},
   "outputs": [],
   "source": [
    "anomalies_detection = torch.concat(anomalies_list)"
   ]
  },
  {
   "cell_type": "code",
   "execution_count": 89,
   "metadata": {},
   "outputs": [
    {
     "data": {
      "text/plain": [
       "tensor([30, 36, 39, 25, 28])"
      ]
     },
     "execution_count": 89,
     "metadata": {},
     "output_type": "execute_result"
    }
   ],
   "source": [
    "anomalies_detection.sum(dim=0)"
   ]
  },
  {
   "cell_type": "code",
   "execution_count": null,
   "metadata": {},
   "outputs": [],
   "source": []
  }
 ],
 "metadata": {
  "kernelspec": {
   "display_name": "crypto",
   "language": "python",
   "name": "python3"
  },
  "language_info": {
   "codemirror_mode": {
    "name": "ipython",
    "version": 3
   },
   "file_extension": ".py",
   "mimetype": "text/x-python",
   "name": "python",
   "nbconvert_exporter": "python",
   "pygments_lexer": "ipython3",
   "version": "3.12.8"
  }
 },
 "nbformat": 4,
 "nbformat_minor": 2
}
