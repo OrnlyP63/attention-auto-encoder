{
 "cells": [
  {
   "cell_type": "code",
   "execution_count": 1,
   "metadata": {},
   "outputs": [],
   "source": [
    "%load_ext autoreload\n",
    "%autoreload 2\n",
    "\n",
    "import torch\n",
    "from utility.attentionAutoEncoder import AttentionAutoEncoder, concate_data, AttentionDataset, get_return_from_batch\n",
    "from torch.utils.data import DataLoader\n",
    "import numpy as np"
   ]
  },
  {
   "cell_type": "code",
   "execution_count": 2,
   "metadata": {},
   "outputs": [],
   "source": [
    "model = AttentionAutoEncoder(3, 5, 2)"
   ]
  },
  {
   "cell_type": "code",
   "execution_count": 3,
   "metadata": {},
   "outputs": [
    {
     "data": {
      "text/plain": [
       "tensor([[-0.0981, -0.9377,  0.3664,  1.1251,  0.6085],\n",
       "        [ 1.1084, -0.6301,  0.2004, -0.1253, -1.1028],\n",
       "        [-0.4710, -0.6498, -0.5386, -0.4563,  0.5787]])"
      ]
     },
     "execution_count": 3,
     "metadata": {},
     "output_type": "execute_result"
    }
   ],
   "source": [
    "input_data = torch.randn(3, 5)\n",
    "input_data"
   ]
  },
  {
   "cell_type": "code",
   "execution_count": 4,
   "metadata": {},
   "outputs": [
    {
     "data": {
      "text/plain": [
       "tensor([[ 0.5117,  0.3257,  0.7888, -1.2903,  0.1211]], grad_fn=<MmBackward0>)"
      ]
     },
     "execution_count": 4,
     "metadata": {},
     "output_type": "execute_result"
    }
   ],
   "source": [
    "model(input_data)"
   ]
  },
  {
   "cell_type": "code",
   "execution_count": 5,
   "metadata": {},
   "outputs": [],
   "source": [
    "import pandas as pd\n",
    "from utility.data_processing import set_time_data"
   ]
  },
  {
   "cell_type": "code",
   "execution_count": 6,
   "metadata": {},
   "outputs": [],
   "source": [
    "dfs = dict()\n",
    "for ticker in ['btc', 'eth', 'doge', 'xrp', 'ada']:\n",
    "  currency_metrics = pd.read_csv(f'../data/{ticker}_metrics_5_years.csv')\n",
    "  set_currency_metrics = set_time_data(currency_metrics)\n",
    "  dfs[ticker] = set_currency_metrics"
   ]
  },
  {
   "cell_type": "code",
   "execution_count": 7,
   "metadata": {},
   "outputs": [],
   "source": [
    "res, test_res = concate_data(dfs, day_split='2023-12-31')"
   ]
  },
  {
   "cell_type": "code",
   "execution_count": 8,
   "metadata": {},
   "outputs": [
    {
     "data": {
      "text/plain": [
       "torch.Size([3, 5, 1458])"
      ]
     },
     "execution_count": 8,
     "metadata": {},
     "output_type": "execute_result"
    }
   ],
   "source": [
    "res.shape"
   ]
  },
  {
   "cell_type": "code",
   "execution_count": 9,
   "metadata": {},
   "outputs": [],
   "source": [
    "X_t = res[:, :, 0]"
   ]
  },
  {
   "cell_type": "code",
   "execution_count": 10,
   "metadata": {},
   "outputs": [
    {
     "data": {
      "text/plain": [
       "tensor([[-0.0529,  0.0195,  0.0765,  0.0070, -0.0378]], grad_fn=<MmBackward0>)"
      ]
     },
     "execution_count": 10,
     "metadata": {},
     "output_type": "execute_result"
    }
   ],
   "source": [
    "model(X_t)"
   ]
  },
  {
   "cell_type": "code",
   "execution_count": 11,
   "metadata": {},
   "outputs": [
    {
     "data": {
      "text/plain": [
       "5"
      ]
     },
     "execution_count": 11,
     "metadata": {},
     "output_type": "execute_result"
    }
   ],
   "source": [
    "X_t.shape[-1]"
   ]
  },
  {
   "cell_type": "code",
   "execution_count": 12,
   "metadata": {},
   "outputs": [
    {
     "name": "stdout",
     "output_type": "stream",
     "text": [
      "torch.Size([50, 3, 5])\n"
     ]
    }
   ],
   "source": [
    "# Create DataSet\n",
    "training_dataset = AttentionDataset(res)\n",
    "test_dataset = AttentionDataset(test_res)\n",
    "\n",
    "# Create DataLoader\n",
    "training_dataloader = DataLoader(training_dataset, batch_size=50, shuffle=False, num_workers=0)\n",
    "test_dataloader = DataLoader(test_dataset, batch_size=1, shuffle=False, num_workers=0)\n",
    "\n",
    "# Iterate through DataLoader\n",
    "for batch in training_dataloader:\n",
    "    print(batch.shape)  # Output: torch.Size([10, 5])\n",
    "    break  # To print only one batch"
   ]
  },
  {
   "cell_type": "code",
   "execution_count": 13,
   "metadata": {},
   "outputs": [],
   "source": [
    "# get_return_from_batch(batch)"
   ]
  },
  {
   "cell_type": "code",
   "execution_count": 14,
   "metadata": {},
   "outputs": [],
   "source": [
    "# model(batch)"
   ]
  },
  {
   "cell_type": "code",
   "execution_count": 15,
   "metadata": {},
   "outputs": [],
   "source": [
    "import torch.nn as nn\n",
    "import torch.optim as optim"
   ]
  },
  {
   "cell_type": "code",
   "execution_count": 16,
   "metadata": {},
   "outputs": [],
   "source": [
    "criterion = nn.MSELoss()  # Mean Squared Error for reconstruction\n",
    "optimizer = optim.Adam(model.parameters(), lr=0.001)"
   ]
  },
  {
   "cell_type": "code",
   "execution_count": 17,
   "metadata": {},
   "outputs": [
    {
     "name": "stdout",
     "output_type": "stream",
     "text": [
      "Epoch [1/50], Loss: 0.6317\n",
      "Epoch [2/50], Loss: 0.4477\n",
      "Epoch [3/50], Loss: 0.3541\n",
      "Epoch [4/50], Loss: 0.2976\n",
      "Epoch [5/50], Loss: 0.2566\n",
      "Epoch [6/50], Loss: 0.2239\n",
      "Epoch [7/50], Loss: 0.1967\n",
      "Epoch [8/50], Loss: 0.1739\n",
      "Epoch [9/50], Loss: 0.1545\n",
      "Epoch [10/50], Loss: 0.1380\n",
      "Epoch [11/50], Loss: 0.1237\n",
      "Epoch [12/50], Loss: 0.1115\n",
      "Epoch [13/50], Loss: 0.1008\n",
      "Epoch [14/50], Loss: 0.0915\n",
      "Epoch [15/50], Loss: 0.0833\n",
      "Epoch [16/50], Loss: 0.0761\n",
      "Epoch [17/50], Loss: 0.0697\n",
      "Epoch [18/50], Loss: 0.0641\n",
      "Epoch [19/50], Loss: 0.0591\n",
      "Epoch [20/50], Loss: 0.0546\n",
      "Epoch [21/50], Loss: 0.0505\n",
      "Epoch [22/50], Loss: 0.0469\n",
      "Epoch [23/50], Loss: 0.0436\n",
      "Epoch [24/50], Loss: 0.0406\n",
      "Epoch [25/50], Loss: 0.0379\n",
      "Epoch [26/50], Loss: 0.0355\n",
      "Epoch [27/50], Loss: 0.0332\n",
      "Epoch [28/50], Loss: 0.0312\n",
      "Epoch [29/50], Loss: 0.0293\n",
      "Epoch [30/50], Loss: 0.0276\n",
      "Epoch [31/50], Loss: 0.0260\n",
      "Epoch [32/50], Loss: 0.0246\n",
      "Epoch [33/50], Loss: 0.0232\n",
      "Epoch [34/50], Loss: 0.0220\n",
      "Epoch [35/50], Loss: 0.0209\n",
      "Epoch [36/50], Loss: 0.0198\n",
      "Epoch [37/50], Loss: 0.0188\n",
      "Epoch [38/50], Loss: 0.0179\n",
      "Epoch [39/50], Loss: 0.0171\n",
      "Epoch [40/50], Loss: 0.0163\n",
      "Epoch [41/50], Loss: 0.0155\n",
      "Epoch [42/50], Loss: 0.0149\n",
      "Epoch [43/50], Loss: 0.0142\n",
      "Epoch [44/50], Loss: 0.0136\n",
      "Epoch [45/50], Loss: 0.0131\n",
      "Epoch [46/50], Loss: 0.0126\n",
      "Epoch [47/50], Loss: 0.0121\n",
      "Epoch [48/50], Loss: 0.0116\n",
      "Epoch [49/50], Loss: 0.0112\n",
      "Epoch [50/50], Loss: 0.0108\n"
     ]
    }
   ],
   "source": [
    "num_epochs = 50\n",
    "\n",
    "for epoch in range(num_epochs):\n",
    "    total_loss = 0\n",
    "    for X_t in training_dataloader:\n",
    "        R_T = get_return_from_batch(X_t)\n",
    "        # Forward pass\n",
    "        R_T_hat = model(X_t)\n",
    "        loss = criterion(R_T_hat, R_T)\n",
    "        \n",
    "        # Backpropagation\n",
    "        optimizer.zero_grad()\n",
    "        loss.backward()\n",
    "        optimizer.step()\n",
    "\n",
    "        total_loss += loss.item()\n",
    "    avg_loss = total_loss / len(training_dataloader)\n",
    "    print(f\"Epoch [{epoch+1}/{num_epochs}], Loss: {avg_loss:.4f}\")"
   ]
  },
  {
   "cell_type": "code",
   "execution_count": 18,
   "metadata": {},
   "outputs": [],
   "source": [
    "errors = []\n",
    "for X_t in training_dataloader:\n",
    "  R_T = get_return_from_batch(X_t)\n",
    "  # Forward pass\n",
    "  R_T_hat = model(X_t)\n",
    "  err = (R_T_hat - R_T).squeeze(1) # try to find top R_T_hat\n",
    "  errors.append(err)"
   ]
  },
  {
   "cell_type": "code",
   "execution_count": 19,
   "metadata": {},
   "outputs": [
    {
     "data": {
      "text/plain": [
       "torch.Size([1458, 5])"
      ]
     },
     "execution_count": 19,
     "metadata": {},
     "output_type": "execute_result"
    }
   ],
   "source": [
    "stacked_error = torch.cat(errors, dim=0) \n",
    "stacked_error.shape"
   ]
  },
  {
   "cell_type": "code",
   "execution_count": 20,
   "metadata": {},
   "outputs": [
    {
     "data": {
      "text/plain": [
       "tensor([0.0236, 0.0677, 0.2402, 0.0530, 0.0245], grad_fn=<SqueezeBackward4>)"
      ]
     },
     "execution_count": 20,
     "metadata": {},
     "output_type": "execute_result"
    }
   ],
   "source": [
    "q90 = torch.quantile(stacked_error, 0.90, dim=0)\n",
    "q90"
   ]
  },
  {
   "cell_type": "code",
   "execution_count": 21,
   "metadata": {},
   "outputs": [],
   "source": [
    "anomalies_list = []\n",
    "returns_list = []\n",
    "\n",
    "for X_t in test_dataloader:\n",
    "    R_T = get_return_from_batch(X_t)\n",
    "    R_T_hat = model(X_t)\n",
    "\n",
    "    err = (R_T_hat - R_T).squeeze(1)\n",
    "    anomalies = err >= q90\n",
    "    anomalies_list.append(anomalies)\n",
    "    returns_list.append(R_T)"
   ]
  },
  {
   "cell_type": "code",
   "execution_count": 22,
   "metadata": {},
   "outputs": [],
   "source": [
    "anomalies_detection = torch.concat(anomalies_list)\n",
    "all_returns = torch.concat(returns_list).squeeze(1)"
   ]
  },
  {
   "cell_type": "code",
   "execution_count": 23,
   "metadata": {},
   "outputs": [
    {
     "data": {
      "text/plain": [
       "tensor([26, 40, 48, 24, 20])"
      ]
     },
     "execution_count": 23,
     "metadata": {},
     "output_type": "execute_result"
    }
   ],
   "source": [
    "anomalies_detection.sum(dim=0)"
   ]
  },
  {
   "cell_type": "code",
   "execution_count": 24,
   "metadata": {},
   "outputs": [
    {
     "data": {
      "text/plain": [
       "array([[False, False, False, False, False],\n",
       "       [False, False, False, False, False],\n",
       "       [False,  True,  True,  True, False],\n",
       "       ...,\n",
       "       [False, False,  True, False, False],\n",
       "       [False, False, False, False, False],\n",
       "       [False, False, False, False, False]])"
      ]
     },
     "execution_count": 24,
     "metadata": {},
     "output_type": "execute_result"
    }
   ],
   "source": [
    "anomalies_detection.numpy()"
   ]
  },
  {
   "cell_type": "code",
   "execution_count": 25,
   "metadata": {},
   "outputs": [
    {
     "data": {
      "text/plain": [
       "array([[ 0.04248666,  0.02955466,  0.02979293,  0.02624824,  0.05020779],\n",
       "       [ 0.02004069,  0.00433265, -0.00832219, -0.00529069, -0.02655358],\n",
       "       [-0.04943179, -0.0658676 , -0.107687  , -0.07494581, -0.08653914],\n",
       "       ...,\n",
       "       [-0.01766928, -0.01487776, -0.03122776, -0.04329219, -0.03598882],\n",
       "       [-0.0100486 ,  0.00254795, -0.00297066, -0.01699607,  0.00157149],\n",
       "       [ 0.00932239, -0.00688175,  0.00836564,  0.01134853, -0.01749099]],\n",
       "      dtype=float32)"
      ]
     },
     "execution_count": 25,
     "metadata": {},
     "output_type": "execute_result"
    }
   ],
   "source": [
    "all_returns.numpy()"
   ]
  },
  {
   "cell_type": "code",
   "execution_count": 26,
   "metadata": {},
   "outputs": [],
   "source": [
    "with open('./numpyarray/anomalies_test.npy', 'wb') as f:\n",
    "    np.save(f, anomalies_detection.numpy())"
   ]
  },
  {
   "cell_type": "code",
   "execution_count": 27,
   "metadata": {},
   "outputs": [],
   "source": [
    "with open('./numpyarray/returns_test.npy', 'wb') as f:\n",
    "    np.save(f, all_returns.numpy())"
   ]
  },
  {
   "cell_type": "code",
   "execution_count": 28,
   "metadata": {},
   "outputs": [
    {
     "data": {
      "text/plain": [
       "tensor([-0.0662, -0.0440, -0.0405, -0.1197, -0.0588],\n",
       "       grad_fn=<SqueezeBackward4>)"
      ]
     },
     "execution_count": 28,
     "metadata": {},
     "output_type": "execute_result"
    }
   ],
   "source": [
    "q10 = torch.quantile(stacked_error, 0.10, dim=0)\n",
    "q10"
   ]
  },
  {
   "cell_type": "code",
   "execution_count": 29,
   "metadata": {},
   "outputs": [],
   "source": [
    "# for X_t in all_returns:\n",
    "#     R_T = get_return_from_batch(X_t)\n",
    "#     R_T_hat = model(X_t)\n",
    "\n",
    "#     err = (R_T_hat - R_T).squeeze(1)\n",
    "#     anomalies = err >= q90\n",
    "#     anomalies_list.append(anomalies)\n",
    "#     returns_list.append(R_T)"
   ]
  },
  {
   "cell_type": "code",
   "execution_count": 30,
   "metadata": {},
   "outputs": [],
   "source": [
    "for i in range(50, 100):\n",
    "  t = 0.01 * i\n",
    "  th = torch.quantile(stacked_error, t, dim=0)\n",
    "\n",
    "  anomalies_list = []\n",
    "\n",
    "  for X_t in test_dataloader:\n",
    "    R_T = get_return_from_batch(X_t)\n",
    "    R_T_hat = model(X_t)\n",
    "\n",
    "    err = (R_T_hat - R_T).squeeze(1)\n",
    "    anomalies = err >= th\n",
    "    anomalies_list.append(anomalies)\n",
    "\n",
    "  anomalies_detection = torch.concat(anomalies_list)\n",
    "  \n",
    "  with open(f'./numpyarray/anomalies_q{i}_test.npy', 'wb') as f:\n",
    "    np.save(f, anomalies_detection.numpy())"
   ]
  },
  {
   "cell_type": "code",
   "execution_count": 31,
   "metadata": {},
   "outputs": [],
   "source": [
    "training_dataloader = DataLoader(training_dataset, batch_size=1, shuffle=False, num_workers=0)\n",
    "anomalies_list = []\n",
    "returns_list = []\n",
    "\n",
    "for X_t in training_dataloader:\n",
    "    R_T = get_return_from_batch(X_t)\n",
    "    R_T_hat = model(X_t)\n",
    "\n",
    "    err = (R_T_hat - R_T).squeeze(1)\n",
    "    anomalies = err >= q90\n",
    "    anomalies_list.append(anomalies)\n",
    "    returns_list.append(R_T)\n",
    "\n",
    "anomalies_detection = torch.concat(anomalies_list)\n",
    "all_returns = torch.concat(returns_list).squeeze(1)\n",
    "\n",
    "with open('./numpyarray/returns_train.npy', 'wb') as f:\n",
    "    np.save(f, all_returns.numpy())\n",
    "\n",
    "with open('./numpyarray/returns_train.npy', 'wb') as f:\n",
    "    np.save(f, all_returns.numpy())"
   ]
  },
  {
   "cell_type": "code",
   "execution_count": 33,
   "metadata": {},
   "outputs": [],
   "source": [
    "ths = {}\n",
    "for i in range(50, 100):\n",
    "  t = 0.01 * i\n",
    "  th = torch.quantile(stacked_error, t, dim=0)\n",
    "\n",
    "  anomalies_list = []\n",
    "\n",
    "  for X_t in training_dataloader:\n",
    "    R_T = get_return_from_batch(X_t)\n",
    "    R_T_hat = model(X_t)\n",
    "\n",
    "    err = (R_T_hat - R_T).squeeze(1)\n",
    "    anomalies = err >= th\n",
    "    anomalies_list.append(anomalies)\n",
    "\n",
    "  anomalies_detection = torch.concat(anomalies_list)\n",
    "  ths[i] = th\n",
    "  with open(f'./numpyarray/anomalies_q{i}_train.npy', 'wb') as f:\n",
    "    np.save(f, anomalies_detection.numpy())"
   ]
  },
  {
   "cell_type": "code",
   "execution_count": 34,
   "metadata": {},
   "outputs": [
    {
     "name": "stdout",
     "output_type": "stream",
     "text": [
      "The autoreload extension is already loaded. To reload it, use:\n",
      "  %reload_ext autoreload\n"
     ]
    }
   ],
   "source": [
    "%load_ext autoreload\n",
    "%autoreload 2\n",
    "\n",
    "import numpy as np\n",
    "from utility.metric import equal_weight_strategy, plot_profit, anomaly_rebalance_strategy2"
   ]
  },
  {
   "cell_type": "code",
   "execution_count": 36,
   "metadata": {},
   "outputs": [
    {
     "data": {
      "text/plain": [
       "array([[ 0.00380051,  0.00186359,  0.01662825, -0.00121154,  0.00846868],\n",
       "       [ 0.00032222,  0.00692728,  0.04046779,  0.00815522,  0.00361591],\n",
       "       [ 0.05563713,  0.06459294,  0.01193943,  0.13204011,  0.07664178],\n",
       "       ...,\n",
       "       [-0.01587566, -0.02388262, -0.01249238, -0.02094503, -0.02095945],\n",
       "       [ 0.00489029, -0.00095417, -0.00794847, -0.00056895, -0.00727318],\n",
       "       [ 0.00030009, -0.00641982, -0.00972579, -0.01312717, -0.01711749]],\n",
       "      dtype=float32)"
      ]
     },
     "execution_count": 36,
     "metadata": {},
     "output_type": "execute_result"
    }
   ],
   "source": [
    "returns = np.load('./numpyarray/returns_train.npy')\n",
    "returns"
   ]
  },
  {
   "cell_type": "code",
   "execution_count": 38,
   "metadata": {},
   "outputs": [],
   "source": [
    "res = equal_weight_strategy(returns)"
   ]
  },
  {
   "cell_type": "code",
   "execution_count": 39,
   "metadata": {},
   "outputs": [],
   "source": [
    "max_diff = 0\n",
    "idx_max_diff = 0\n",
    "for i in range(50, 100):\n",
    "\n",
    "  anomalies = np.load(f'./numpyarray/anomalies_q{i}_train.npy')\n",
    "  \n",
    "  res2 = anomaly_rebalance_strategy2(returns, anomalies)\n",
    "  finally_diff = res2[-1] - res[-1]\n",
    "  if finally_diff > 0:\n",
    "    # print(i)\n",
    "    # plot_profit([res, res2], ['Equal Weight Strategy', 'Anomaly-Rebalance Strategy'])\n",
    "    # plt.show()\n",
    "\n",
    "    if finally_diff > max_diff:\n",
    "      max_diff = finally_diff\n",
    "      idx_max_diff = i"
   ]
  },
  {
   "cell_type": "code",
   "execution_count": 40,
   "metadata": {},
   "outputs": [
    {
     "data": {
      "text/plain": [
       "1.7662203845819011"
      ]
     },
     "execution_count": 40,
     "metadata": {},
     "output_type": "execute_result"
    }
   ],
   "source": [
    "max_diff"
   ]
  },
  {
   "cell_type": "code",
   "execution_count": 41,
   "metadata": {},
   "outputs": [
    {
     "data": {
      "text/plain": [
       "96"
      ]
     },
     "execution_count": 41,
     "metadata": {},
     "output_type": "execute_result"
    }
   ],
   "source": [
    "idx_max_diff"
   ]
  },
  {
   "cell_type": "code",
   "execution_count": 42,
   "metadata": {},
   "outputs": [],
   "source": [
    "th = ths[idx_max_diff]\n",
    "\n",
    "anomalies_list = []\n",
    "\n",
    "for X_t in test_dataloader:\n",
    "  R_T = get_return_from_batch(X_t)\n",
    "  R_T_hat = model(X_t)\n",
    "\n",
    "  err = (R_T_hat - R_T).squeeze(1)\n",
    "  anomalies = err >= th\n",
    "  anomalies_list.append(anomalies)\n",
    "\n",
    "anomalies_detection = torch.concat(anomalies_list)\n",
    "\n",
    "with open(f'./numpyarray/anomalies_q_opimal_test.npy', 'wb') as f:\n",
    "  np.save(f, anomalies_detection.numpy())"
   ]
  },
  {
   "cell_type": "code",
   "execution_count": 43,
   "metadata": {},
   "outputs": [
    {
     "data": {
      "text/plain": [
       "tensor([0.0453, 0.1074, 0.4233, 0.0952, 0.0420], grad_fn=<SqueezeBackward4>)"
      ]
     },
     "execution_count": 43,
     "metadata": {},
     "output_type": "execute_result"
    }
   ],
   "source": [
    "th"
   ]
  },
  {
   "cell_type": "code",
   "execution_count": null,
   "metadata": {},
   "outputs": [],
   "source": []
  }
 ],
 "metadata": {
  "kernelspec": {
   "display_name": "crypto",
   "language": "python",
   "name": "python3"
  },
  "language_info": {
   "codemirror_mode": {
    "name": "ipython",
    "version": 3
   },
   "file_extension": ".py",
   "mimetype": "text/x-python",
   "name": "python",
   "nbconvert_exporter": "python",
   "pygments_lexer": "ipython3",
   "version": "3.12.8"
  }
 },
 "nbformat": 4,
 "nbformat_minor": 2
}
