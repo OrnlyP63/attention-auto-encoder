{
 "cells": [
  {
   "cell_type": "code",
   "execution_count": 101,
   "metadata": {},
   "outputs": [
    {
     "name": "stdout",
     "output_type": "stream",
     "text": [
      "The autoreload extension is already loaded. To reload it, use:\n",
      "  %reload_ext autoreload\n"
     ]
    }
   ],
   "source": [
    "%load_ext autoreload\n",
    "%autoreload 2\n",
    "\n",
    "import torch\n",
    "from utility.attentionAutoEncoder import AttentionAutoEncoder"
   ]
  },
  {
   "cell_type": "code",
   "execution_count": 102,
   "metadata": {},
   "outputs": [],
   "source": [
    "model = AttentionAutoEncoder(15, 5, 2)"
   ]
  },
  {
   "cell_type": "code",
   "execution_count": 103,
   "metadata": {},
   "outputs": [
    {
     "data": {
      "text/plain": [
       "tensor([[ 1.0551,  0.7208,  1.3208, -0.8838,  0.2418],\n",
       "        [ 0.1078, -0.9553, -0.5653, -1.9865,  1.8354],\n",
       "        [-1.3259,  1.2453,  0.9863,  0.5329,  0.4583],\n",
       "        [ 1.2706,  0.0885, -0.0975, -1.0174, -1.2280],\n",
       "        [-0.2938, -0.4490, -0.5206,  0.3380,  0.7990],\n",
       "        [-1.4405,  0.9677,  0.2497,  0.1906,  0.9273],\n",
       "        [-0.6276,  1.0346,  0.0420, -0.5699, -0.6640],\n",
       "        [-0.1417,  0.1458, -0.0126, -0.6998,  1.7614],\n",
       "        [ 0.8312, -1.4010,  0.1334, -1.4915, -0.8403],\n",
       "        [-0.0333,  0.5459, -2.3552,  0.2629,  0.3536],\n",
       "        [-0.4854,  0.5779,  1.0272,  0.0344, -1.3429],\n",
       "        [ 0.7052,  1.1180,  0.9499, -1.7627,  0.9291],\n",
       "        [ 0.3376, -1.0780, -0.0386,  1.1868,  0.8763],\n",
       "        [-0.7149, -2.0081, -1.2338,  1.3088,  0.0321],\n",
       "        [ 0.0867,  1.5116, -0.6842,  0.5161,  0.3314]])"
      ]
     },
     "execution_count": 103,
     "metadata": {},
     "output_type": "execute_result"
    }
   ],
   "source": [
    "input_data = torch.randn(15, 5)\n",
    "input_data"
   ]
  },
  {
   "cell_type": "code",
   "execution_count": 104,
   "metadata": {},
   "outputs": [
    {
     "data": {
      "text/plain": [
       "tensor([[0., 0., 0., 0., 0.]], grad_fn=<MmBackward0>)"
      ]
     },
     "execution_count": 104,
     "metadata": {},
     "output_type": "execute_result"
    }
   ],
   "source": [
    "model(input_data)"
   ]
  },
  {
   "cell_type": "code",
   "execution_count": null,
   "metadata": {},
   "outputs": [],
   "source": []
  }
 ],
 "metadata": {
  "kernelspec": {
   "display_name": "crypto",
   "language": "python",
   "name": "python3"
  },
  "language_info": {
   "codemirror_mode": {
    "name": "ipython",
    "version": 3
   },
   "file_extension": ".py",
   "mimetype": "text/x-python",
   "name": "python",
   "nbconvert_exporter": "python",
   "pygments_lexer": "ipython3",
   "version": "3.12.8"
  }
 },
 "nbformat": 4,
 "nbformat_minor": 2
}
