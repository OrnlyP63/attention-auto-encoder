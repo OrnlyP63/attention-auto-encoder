{
 "cells": [
  {
   "cell_type": "code",
   "execution_count": 1,
   "metadata": {},
   "outputs": [],
   "source": [
    "%load_ext autoreload\n",
    "%autoreload 2\n",
    "\n",
    "import torch\n",
    "from utility.attentionAutoEncoder import AttentionAutoEncoder, concate_data, AttentionDataset, get_return_from_batch\n",
    "from torch.utils.data import DataLoader\n",
    "import numpy as np"
   ]
  },
  {
   "cell_type": "code",
   "execution_count": 2,
   "metadata": {},
   "outputs": [],
   "source": [
    "model = AttentionAutoEncoder(3, 5, 2)"
   ]
  },
  {
   "cell_type": "code",
   "execution_count": 3,
   "metadata": {},
   "outputs": [
    {
     "data": {
      "text/plain": [
       "tensor([[-0.2624,  1.0378,  0.0998, -0.6758, -0.0736],\n",
       "        [ 1.2901,  0.5918,  0.5332,  1.5005,  0.1368],\n",
       "        [-1.2476, -1.4252, -0.4980, -1.4543, -1.9176]])"
      ]
     },
     "execution_count": 3,
     "metadata": {},
     "output_type": "execute_result"
    }
   ],
   "source": [
    "input_data = torch.randn(3, 5)\n",
    "input_data"
   ]
  },
  {
   "cell_type": "code",
   "execution_count": 4,
   "metadata": {},
   "outputs": [
    {
     "data": {
      "text/plain": [
       "tensor([[ 2.4396, -3.3849, -0.7749, -3.5856, -0.2195]], grad_fn=<MmBackward0>)"
      ]
     },
     "execution_count": 4,
     "metadata": {},
     "output_type": "execute_result"
    }
   ],
   "source": [
    "model(input_data)"
   ]
  },
  {
   "cell_type": "code",
   "execution_count": 5,
   "metadata": {},
   "outputs": [],
   "source": [
    "import pandas as pd\n",
    "from utility.data_processing import set_time_data"
   ]
  },
  {
   "cell_type": "code",
   "execution_count": 6,
   "metadata": {},
   "outputs": [],
   "source": [
    "dfs = dict()\n",
    "for ticker in ['btc', 'eth', 'doge', 'xrp', 'ada']:\n",
    "  currency_metrics = pd.read_csv(f'../data/{ticker}_metrics_5_years.csv')\n",
    "  set_currency_metrics = set_time_data(currency_metrics)\n",
    "  dfs[ticker] = set_currency_metrics"
   ]
  },
  {
   "cell_type": "code",
   "execution_count": 7,
   "metadata": {},
   "outputs": [],
   "source": [
    "res, test_res = concate_data(dfs, day_split='2023-12-31')"
   ]
  },
  {
   "cell_type": "code",
   "execution_count": 8,
   "metadata": {},
   "outputs": [
    {
     "data": {
      "text/plain": [
       "torch.Size([3, 5, 1458])"
      ]
     },
     "execution_count": 8,
     "metadata": {},
     "output_type": "execute_result"
    }
   ],
   "source": [
    "res.shape"
   ]
  },
  {
   "cell_type": "code",
   "execution_count": 9,
   "metadata": {},
   "outputs": [],
   "source": [
    "X_t = res[:, :, 0]"
   ]
  },
  {
   "cell_type": "code",
   "execution_count": 10,
   "metadata": {},
   "outputs": [
    {
     "data": {
      "text/plain": [
       "tensor([[ 0.8744, -1.0539, -0.5060, -0.6572, -0.0760]], grad_fn=<MmBackward0>)"
      ]
     },
     "execution_count": 10,
     "metadata": {},
     "output_type": "execute_result"
    }
   ],
   "source": [
    "model(X_t)"
   ]
  },
  {
   "cell_type": "code",
   "execution_count": 11,
   "metadata": {},
   "outputs": [
    {
     "data": {
      "text/plain": [
       "5"
      ]
     },
     "execution_count": 11,
     "metadata": {},
     "output_type": "execute_result"
    }
   ],
   "source": [
    "X_t.shape[-1]"
   ]
  },
  {
   "cell_type": "code",
   "execution_count": 12,
   "metadata": {},
   "outputs": [
    {
     "name": "stdout",
     "output_type": "stream",
     "text": [
      "torch.Size([50, 3, 5])\n"
     ]
    }
   ],
   "source": [
    "# Create DataSet\n",
    "training_dataset = AttentionDataset(res)\n",
    "test_dataset = AttentionDataset(test_res)\n",
    "\n",
    "# Create DataLoader\n",
    "training_dataloader = DataLoader(training_dataset, batch_size=50, shuffle=False, num_workers=0)\n",
    "test_dataloader = DataLoader(test_dataset, batch_size=1, shuffle=False, num_workers=0)\n",
    "\n",
    "# Iterate through DataLoader\n",
    "for batch in training_dataloader:\n",
    "    print(batch.shape)  # Output: torch.Size([10, 5])\n",
    "    break  # To print only one batch"
   ]
  },
  {
   "cell_type": "code",
   "execution_count": 13,
   "metadata": {},
   "outputs": [],
   "source": [
    "# get_return_from_batch(batch)"
   ]
  },
  {
   "cell_type": "code",
   "execution_count": 14,
   "metadata": {},
   "outputs": [],
   "source": [
    "# model(batch)"
   ]
  },
  {
   "cell_type": "code",
   "execution_count": 15,
   "metadata": {},
   "outputs": [],
   "source": [
    "import torch.nn as nn\n",
    "import torch.optim as optim"
   ]
  },
  {
   "cell_type": "code",
   "execution_count": 16,
   "metadata": {},
   "outputs": [],
   "source": [
    "criterion = nn.MSELoss()  # Mean Squared Error for reconstruction\n",
    "optimizer = optim.Adam(model.parameters(), lr=0.001)"
   ]
  },
  {
   "cell_type": "code",
   "execution_count": 17,
   "metadata": {},
   "outputs": [
    {
     "name": "stdout",
     "output_type": "stream",
     "text": [
      "Epoch [1/50], Loss: 1.1023\n",
      "Epoch [2/50], Loss: 0.7778\n",
      "Epoch [3/50], Loss: 0.5659\n",
      "Epoch [4/50], Loss: 0.4195\n",
      "Epoch [5/50], Loss: 0.3157\n",
      "Epoch [6/50], Loss: 0.2407\n",
      "Epoch [7/50], Loss: 0.1856\n",
      "Epoch [8/50], Loss: 0.1446\n",
      "Epoch [9/50], Loss: 0.1139\n",
      "Epoch [10/50], Loss: 0.0908\n",
      "Epoch [11/50], Loss: 0.0733\n",
      "Epoch [12/50], Loss: 0.0600\n",
      "Epoch [13/50], Loss: 0.0500\n",
      "Epoch [14/50], Loss: 0.0423\n",
      "Epoch [15/50], Loss: 0.0364\n",
      "Epoch [16/50], Loss: 0.0318\n",
      "Epoch [17/50], Loss: 0.0283\n",
      "Epoch [18/50], Loss: 0.0255\n",
      "Epoch [19/50], Loss: 0.0233\n",
      "Epoch [20/50], Loss: 0.0216\n",
      "Epoch [21/50], Loss: 0.0201\n",
      "Epoch [22/50], Loss: 0.0189\n",
      "Epoch [23/50], Loss: 0.0178\n",
      "Epoch [24/50], Loss: 0.0169\n",
      "Epoch [25/50], Loss: 0.0160\n",
      "Epoch [26/50], Loss: 0.0153\n",
      "Epoch [27/50], Loss: 0.0146\n",
      "Epoch [28/50], Loss: 0.0139\n",
      "Epoch [29/50], Loss: 0.0133\n",
      "Epoch [30/50], Loss: 0.0127\n",
      "Epoch [31/50], Loss: 0.0122\n",
      "Epoch [32/50], Loss: 0.0117\n",
      "Epoch [33/50], Loss: 0.0112\n",
      "Epoch [34/50], Loss: 0.0108\n",
      "Epoch [35/50], Loss: 0.0103\n",
      "Epoch [36/50], Loss: 0.0099\n",
      "Epoch [37/50], Loss: 0.0096\n",
      "Epoch [38/50], Loss: 0.0092\n",
      "Epoch [39/50], Loss: 0.0089\n",
      "Epoch [40/50], Loss: 0.0086\n",
      "Epoch [41/50], Loss: 0.0083\n",
      "Epoch [42/50], Loss: 0.0080\n",
      "Epoch [43/50], Loss: 0.0078\n",
      "Epoch [44/50], Loss: 0.0075\n",
      "Epoch [45/50], Loss: 0.0073\n",
      "Epoch [46/50], Loss: 0.0071\n",
      "Epoch [47/50], Loss: 0.0069\n",
      "Epoch [48/50], Loss: 0.0067\n",
      "Epoch [49/50], Loss: 0.0065\n",
      "Epoch [50/50], Loss: 0.0064\n"
     ]
    }
   ],
   "source": [
    "num_epochs = 50\n",
    "\n",
    "for epoch in range(num_epochs):\n",
    "    total_loss = 0\n",
    "    for X_t in training_dataloader:\n",
    "        R_T = get_return_from_batch(X_t)\n",
    "        # Forward pass\n",
    "        R_T_hat = model(X_t)\n",
    "        loss = criterion(R_T_hat, R_T)\n",
    "        \n",
    "        # Backpropagation\n",
    "        optimizer.zero_grad()\n",
    "        loss.backward()\n",
    "        optimizer.step()\n",
    "\n",
    "        total_loss += loss.item()\n",
    "    avg_loss = total_loss / len(training_dataloader)\n",
    "    print(f\"Epoch [{epoch+1}/{num_epochs}], Loss: {avg_loss:.4f}\")"
   ]
  },
  {
   "cell_type": "code",
   "execution_count": 18,
   "metadata": {},
   "outputs": [],
   "source": [
    "errors = []\n",
    "for X_t in training_dataloader:\n",
    "  R_T = get_return_from_batch(X_t)\n",
    "  # Forward pass\n",
    "  R_T_hat = model(X_t)\n",
    "  err = (R_T_hat - R_T).squeeze(1) # try to find top R_T_hat\n",
    "  errors.append(err)"
   ]
  },
  {
   "cell_type": "code",
   "execution_count": 19,
   "metadata": {},
   "outputs": [
    {
     "data": {
      "text/plain": [
       "torch.Size([1458, 5])"
      ]
     },
     "execution_count": 19,
     "metadata": {},
     "output_type": "execute_result"
    }
   ],
   "source": [
    "stacked_error = torch.cat(errors, dim=0) \n",
    "stacked_error.shape"
   ]
  },
  {
   "cell_type": "code",
   "execution_count": 20,
   "metadata": {},
   "outputs": [
    {
     "data": {
      "text/plain": [
       "tensor([0.0829, 0.0155, 0.0595, 0.0357, 0.0467], grad_fn=<SqueezeBackward4>)"
      ]
     },
     "execution_count": 20,
     "metadata": {},
     "output_type": "execute_result"
    }
   ],
   "source": [
    "q90 = torch.quantile(stacked_error, 0.90, dim=0)\n",
    "q90"
   ]
  },
  {
   "cell_type": "code",
   "execution_count": 21,
   "metadata": {},
   "outputs": [],
   "source": [
    "anomalies_list = []\n",
    "returns_list = []\n",
    "\n",
    "for X_t in test_dataloader:\n",
    "    R_T = get_return_from_batch(X_t)\n",
    "    R_T_hat = model(X_t)\n",
    "\n",
    "    err = (R_T_hat - R_T).squeeze(1)\n",
    "    anomalies = err >= q90\n",
    "    anomalies_list.append(anomalies)\n",
    "    returns_list.append(R_T)"
   ]
  },
  {
   "cell_type": "code",
   "execution_count": 22,
   "metadata": {},
   "outputs": [],
   "source": [
    "anomalies_detection = torch.concat(anomalies_list)\n",
    "all_returns = torch.concat(returns_list).squeeze(1)"
   ]
  },
  {
   "cell_type": "code",
   "execution_count": 23,
   "metadata": {},
   "outputs": [
    {
     "data": {
      "text/plain": [
       "tensor([26, 39, 45, 38, 23])"
      ]
     },
     "execution_count": 23,
     "metadata": {},
     "output_type": "execute_result"
    }
   ],
   "source": [
    "anomalies_detection.sum(dim=0)"
   ]
  },
  {
   "cell_type": "code",
   "execution_count": 24,
   "metadata": {},
   "outputs": [
    {
     "data": {
      "text/plain": [
       "array([[False, False, False, False, False],\n",
       "       [False, False, False, False, False],\n",
       "       [False,  True,  True, False,  True],\n",
       "       ...,\n",
       "       [False, False, False,  True, False],\n",
       "       [False, False,  True, False, False],\n",
       "       [False, False, False, False, False]])"
      ]
     },
     "execution_count": 24,
     "metadata": {},
     "output_type": "execute_result"
    }
   ],
   "source": [
    "anomalies_detection.numpy()"
   ]
  },
  {
   "cell_type": "code",
   "execution_count": 25,
   "metadata": {},
   "outputs": [
    {
     "data": {
      "text/plain": [
       "array([[ 0.04248666,  0.02955466,  0.02979293,  0.02624824,  0.05020779],\n",
       "       [ 0.02004069,  0.00433265, -0.00832219, -0.00529069, -0.02655358],\n",
       "       [-0.04943179, -0.0658676 , -0.107687  , -0.07494581, -0.08653914],\n",
       "       ...,\n",
       "       [-0.01766928, -0.01487776, -0.03122776, -0.04329219, -0.03598882],\n",
       "       [-0.0100486 ,  0.00254795, -0.00297066, -0.01699607,  0.00157149],\n",
       "       [ 0.00932239, -0.00688175,  0.00836564,  0.01134853, -0.01749099]],\n",
       "      dtype=float32)"
      ]
     },
     "execution_count": 25,
     "metadata": {},
     "output_type": "execute_result"
    }
   ],
   "source": [
    "all_returns.numpy()"
   ]
  },
  {
   "cell_type": "code",
   "execution_count": 26,
   "metadata": {},
   "outputs": [],
   "source": [
    "with open('./numpyarray/anomalies_test.npy', 'wb') as f:\n",
    "    np.save(f, anomalies_detection.numpy())"
   ]
  },
  {
   "cell_type": "code",
   "execution_count": 27,
   "metadata": {},
   "outputs": [],
   "source": [
    "with open('./numpyarray/returns_test.npy', 'wb') as f:\n",
    "    np.save(f, all_returns.numpy())"
   ]
  },
  {
   "cell_type": "code",
   "execution_count": 28,
   "metadata": {},
   "outputs": [
    {
     "data": {
      "text/plain": [
       "tensor([-0.0344, -0.1058, -0.0659, -0.1793, -0.0601],\n",
       "       grad_fn=<SqueezeBackward4>)"
      ]
     },
     "execution_count": 28,
     "metadata": {},
     "output_type": "execute_result"
    }
   ],
   "source": [
    "q10 = torch.quantile(stacked_error, 0.10, dim=0)\n",
    "q10"
   ]
  },
  {
   "cell_type": "code",
   "execution_count": 29,
   "metadata": {},
   "outputs": [],
   "source": [
    "# for X_t in all_returns:\n",
    "#     R_T = get_return_from_batch(X_t)\n",
    "#     R_T_hat = model(X_t)\n",
    "\n",
    "#     err = (R_T_hat - R_T).squeeze(1)\n",
    "#     anomalies = err >= q90\n",
    "#     anomalies_list.append(anomalies)\n",
    "#     returns_list.append(R_T)"
   ]
  },
  {
   "cell_type": "code",
   "execution_count": 35,
   "metadata": {},
   "outputs": [],
   "source": [
    "for i in range(50, 100):\n",
    "  t = 0.01 * i\n",
    "  th = torch.quantile(stacked_error, t, dim=0)\n",
    "\n",
    "  anomalies_list = []\n",
    "\n",
    "  for X_t in test_dataloader:\n",
    "    R_T = get_return_from_batch(X_t)\n",
    "    R_T_hat = model(X_t)\n",
    "\n",
    "    err = (R_T_hat - R_T).squeeze(1)\n",
    "    anomalies = err >= th\n",
    "    anomalies_list.append(anomalies)\n",
    "\n",
    "  anomalies_detection = torch.concat(anomalies_list)\n",
    "  \n",
    "  with open(f'./numpyarray/anomalies_q{i}_test.npy', 'wb') as f:\n",
    "    np.save(f, anomalies_detection.numpy())"
   ]
  }
 ],
 "metadata": {
  "kernelspec": {
   "display_name": "crypto",
   "language": "python",
   "name": "python3"
  },
  "language_info": {
   "codemirror_mode": {
    "name": "ipython",
    "version": 3
   },
   "file_extension": ".py",
   "mimetype": "text/x-python",
   "name": "python",
   "nbconvert_exporter": "python",
   "pygments_lexer": "ipython3",
   "version": "3.12.8"
  }
 },
 "nbformat": 4,
 "nbformat_minor": 2
}
